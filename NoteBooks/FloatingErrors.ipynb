{
  "nbformat": 4,
  "nbformat_minor": 0,
  "metadata": {
    "colab": {
      "provenance": []
    },
    "kernelspec": {
      "name": "python3",
      "display_name": "Python 3"
    },
    "language_info": {
      "name": "python"
    }
  },
  "cells": [
    {
      "cell_type": "code",
      "execution_count": null,
      "metadata": {
        "id": "2xOmGPp814Wj"
      },
      "outputs": [],
      "source": [
        "import numpy as np\n",
        "import matplotlib.pyplot as plt\n",
        "from enum import Enum\n",
        "\n",
        "class RoundingMode(Enum):\n",
        "    ROUND_HALF_UP = 'round_half_up'\n",
        "    ROUND_HALF_DOWN = 'round_half_down'\n",
        "    ROUND_UP = 'round_up'\n",
        "    ROUND_DOWN = 'round_down'\n",
        "    ROUND_HALF_EVEN = 'round_half_even'\n",
        "    ROUND_HALF_ODD = 'round_half_odd'\n",
        "    ROUND_TOWARDS_ZERO = 'round_towards_zero'\n",
        "    ROUND_AWAY_ZERO = 'round_away_zero'\n",
        "\n",
        "\n",
        "def main():\n",
        "    number = float(input(\"Enter a number to round: \"))\n",
        "    print(\"Choose rounding mode:\")\n",
        "    for mode in RoundingMode:\n",
        "        print(f\"{mode.value} ({mode.name})\")\n",
        "    mode_input = input(\"Enter rounding mode: \")\n",
        "    rounding_mode = RoundingMode(mode_input.strip())\n",
        "\n",
        "    choice = input(\"Choose precision (p) or significant figures (s): \").lower()\n",
        "    if choice == 'p':\n",
        "        precision = int(input(\"Enter number of decimal places for precision: \"))\n",
        "        rounded_number = round_float(number, precision=precision, rounding_mode=rounding_mode)\n",
        "    elif choice == 's':\n",
        "        sig_figs = int(input(\"Enter number of significant figures: \"))\n",
        "        rounded_number = round_float(number, significant_figures=sig_figs, rounding_mode=rounding_mode)\n",
        "    else:\n",
        "        print(\"Invalid choice.\")\n",
        "        return\n",
        "\n",
        "    print(f\"Original number: {number}\")\n",
        "    print(f\"Rounded number: {rounded_number}\")\n",
        "\n",
        "    # Plotting the results\n",
        "    plt.figure(figsize=(6, 4))\n",
        "    plt.bar(['Original', 'Rounded'], [number, rounded_number], color=['blue', 'green'])\n",
        "    plt.ylabel('Value')\n",
        "    plt.title('Comparison of Original and Rounded Numbers')\n",
        "    plt.grid(True)\n",
        "    plt.show()\n",
        "\n",
        "if __name__ == \"__main__\":\n",
        "    main()"
      ]
    },
    {
      "cell_type": "code",
      "source": [],
      "metadata": {
        "id": "nmDe2iob2bYg"
      },
      "execution_count": null,
      "outputs": []
    }
  ]
}